{
 "cells": [
  {
   "cell_type": "code",
   "execution_count": 67,
   "id": "4f01bc80",
   "metadata": {},
   "outputs": [],
   "source": [
    "# Importing all the relevant libraries\n",
    "from tkinter import *\n",
    "from tkinter import messagebox\n",
    "import numpy as np\n",
    "import pandas as pd\n",
    "import warnings\n",
    "warnings.filterwarnings(\"ignore\")\n",
    "from sklearn.ensemble import RandomForestClassifier\n",
    "from sklearn.metrics import accuracy_score\n",
    "from sklearn.naive_bayes import MultinomialNB\n",
    "from sklearn.metrics import classification_report,confusion_matrix,accuracy_score"
   ]
  },
  {
   "cell_type": "code",
   "execution_count": 68,
   "id": "ab2e0522",
   "metadata": {},
   "outputs": [],
   "source": [
    "# l1 contains all symptoms of diseases\n",
    "\n",
    "l1=['itching','skin_rash','nodal_skin_eruptions','continuous_sneezing','shivering','chills','joint_pain',\n",
    "    'stomach_pain','acidity','ulcers_on_tongue','muscle_wasting','vomiting','burning_micturition','spotting_ urination','fatigue',\n",
    "    'weight_gain','anxiety','cold_hands_and_feets','mood_swings','weight_loss','restlessness','lethargy','patches_in_throat',\n",
    "    'irregular_sugar_level','cough','high_fever','sunken_eyes','breathlessness','sweating','dehydration','indigestion',\n",
    "    'headache','yellowish_skin','dark_urine','nausea','loss_of_appetite','pain_behind_the_eyes','back_pain','constipation',\n",
    "    'abdominal_pain','diarrhoea','mild_fever','yellow_urine','yellowing_of_eyes','acute_liver_failure','fluid_overload',\n",
    "    'swelling_of_stomach','swelled_lymph_nodes','malaise','blurred_and_distorted_vision','phlegm','throat_irritation',\n",
    "    'redness_of_eyes','sinus_pressure','runny_nose','congestion','chest_pain','weakness_in_limbs','fast_heart_rate',\n",
    "    'pain_during_bowel_movements','pain_in_anal_region','bloody_stool','irritation_in_anus','neck_pain','dizziness','cramps',\n",
    "    'bruising','obesity','swollen_legs','swollen_blood_vessels','puffy_face_and_eyes','enlarged_thyroid','brittle_nails',\n",
    "    'swollen_extremeties','excessive_hunger','extra_marital_contacts','drying_and_tingling_lips','slurred_speech','knee_pain','hip_joint_pain',\n",
    "    'muscle_weakness','stiff_neck','swelling_joints','movement_stiffness','spinning_movements','loss_of_balance','unsteadiness','weakness_of_one_body_side',\n",
    "    'loss_of_smell','bladder_discomfort','foul_smell_of urine','continuous_feel_of_urine','passage_of_gases','internal_itching','toxic_look_(typhos)',\n",
    "    'depression','irritability','muscle_pain','altered_sensorium','red_spots_over_body','belly_pain','abnormal_menstruation','dischromic _patches',\n",
    "    'watering_from_eyes','increased_appetite','polyuria','family_history','mucoid_sputum','rusty_sputum','lack_of_concentration','visual_disturbances',\n",
    "    'receiving_blood_transfusion','receiving_unsterile_injections','coma','stomach_bleeding','distention_of_abdomen','history_of_alcohol_consumption',\n",
    "    'fluid_overload','blood_in_sputum','prominent_veins_on_calf','palpitations','painful_walking','pus_filled_pimples','blackheads','scurring','skin_peeling',\n",
    "    'silver_like_dusting','small_dents_in_nails','inflammatory_nails','blister','red_sore_around_nose','yellow_crust_ooze']\n",
    "\n",
    "\n",
    "disease=['Fungal infection','Allergy','GERD','Chronic cholestasis','Drug Reaction',\n",
    "        'Peptic ulcer diseae','AIDS','Diabetes','Gastroenteritis','Bronchial Asthma','Hypertension',\n",
    "        ' Migraine','Cervical spondylosis',\n",
    "        'Paralysis (brain hemorrhage)','Jaundice','Malaria','Chicken pox','Dengue','Typhoid','hepatitis A',\n",
    "'Hepatitis B','Hepatitis C','Hepatitis D','Hepatitis E','Alcoholic hepatitis','Tuberculosis',\n",
    "'Common Cold','Pneumonia','Dimorphic hemmorhoids(piles)',\n",
    "'Heartattack','Varicoseveins','Hypothyroidism','Hyperthyroidism','Hypoglycemia','Osteoarthristis',\n",
    "'Arthritis','(vertigo) Paroymsal  Positional Vertigo','Acne','Urinary tract infection','Psoriasis',\n",
    "'Impetigo']"
   ]
  },
  {
   "cell_type": "code",
   "execution_count": 69,
   "id": "ea3cf29f",
   "metadata": {},
   "outputs": [
    {
     "name": "stdout",
     "output_type": "stream",
     "text": [
      "[0, 0, 0, 0, 0, 0, 0, 0, 0, 0, 0, 0, 0, 0, 0, 0, 0, 0, 0, 0, 0, 0, 0, 0, 0, 0, 0, 0, 0, 0, 0, 0, 0, 0, 0, 0, 0, 0, 0, 0, 0, 0, 0, 0, 0, 0, 0, 0, 0, 0, 0, 0, 0, 0, 0, 0, 0, 0, 0, 0, 0, 0, 0, 0, 0, 0, 0, 0, 0, 0, 0, 0, 0, 0, 0, 0, 0, 0, 0, 0, 0, 0, 0, 0, 0, 0, 0, 0, 0, 0, 0, 0, 0, 0, 0, 0, 0, 0, 0, 0, 0, 0, 0, 0, 0, 0, 0, 0, 0, 0, 0, 0, 0, 0, 0, 0, 0, 0, 0, 0, 0, 0, 0, 0, 0, 0, 0, 0, 0, 0, 0, 0]\n"
     ]
    }
   ],
   "source": [
    "l2=[]\n",
    "for x in range(0,len(l1)): # l2 same lentgh as l1\n",
    "    l2.append(0) # initially, set all values as 0\n",
    "print(l2)\n"
   ]
  },
  {
   "cell_type": "code",
   "execution_count": 70,
   "id": "33a13a44",
   "metadata": {},
   "outputs": [],
   "source": [
    "# TESTING DATA\n",
    "tr=pd.read_csv(\"Testing.csv\")\n",
    "# Replace the disease names with numbers\n",
    "tr.replace({'prognosis':{'Fungal infection':0,'Allergy':1,'GERD':2,'Chronic cholestasis':3,'Drug Reaction':4,\n",
    "'Peptic ulcer diseae':5,'AIDS':6,'Diabetes ':7,'Gastroenteritis':8,'Bronchial Asthma':9,'Hypertension ':10,\n",
    "'Migraine':11,'Cervical spondylosis':12,\n",
    "'Paralysis (brain hemorrhage)':13,'Jaundice':14,'Malaria':15,'Chicken pox':16,'Dengue':17,'Typhoid':18,'hepatitis A':19,\n",
    "'Hepatitis B':20,'Hepatitis C':21,'Hepatitis D':22,'Hepatitis E':23,'Alcoholic hepatitis':24,'Tuberculosis':25,\n",
    "'Common Cold':26,'Pneumonia':27,'Dimorphic hemmorhoids(piles)':28,'Heart attack':29,'Varicose veins':30,'Hypothyroidism':31,\n",
    "'Hyperthyroidism':32,'Hypoglycemia':33,'Osteoarthristis':34,'Arthritis':35,\n",
    "'(vertigo) Paroymsal  Positional Vertigo':36,'Acne':37,'Urinary tract infection':38,'Psoriasis':39,\n",
    "'Impetigo':40}},inplace=True)\n"
   ]
  },
  {
   "cell_type": "code",
   "execution_count": 71,
   "id": "2fd5a3c0",
   "metadata": {},
   "outputs": [],
   "source": [
    "# TRAINING DATA\n",
    "df=pd.read_csv(\"Training.csv\")\n",
    "# Same as testing data\n",
    "df.replace({'prognosis':{'Fungal infection':0,'Allergy':1,'GERD':2,'Chronic cholestasis':3,'Drug Reaction':4,\n",
    "'Peptic ulcer diseae':5,'AIDS':6,'Diabetes ':7,'Gastroenteritis':8,'Bronchial Asthma':9,'Hypertension ':10,\n",
    "'Migraine':11,'Cervical spondylosis':12,\n",
    "'Paralysis (brain hemorrhage)':13,'Jaundice':14,'Malaria':15,'Chicken pox':16,'Dengue':17,'Typhoid':18,'hepatitis A':19,\n",
    "'Hepatitis B':20,'Hepatitis C':21,'Hepatitis D':22,'Hepatitis E':23,'Alcoholic hepatitis':24,'Tuberculosis':25,\n",
    "'Common Cold':26,'Pneumonia':27,'Dimorphic hemmorhoids(piles)':28,'Heart attack':29,'Varicose veins':30,'Hypothyroidism':31,\n",
    "'Hyperthyroidism':32,'Hypoglycemia':33,'Osteoarthristis':34,'Arthritis':35,\n",
    "'(vertigo) Paroymsal  Positional Vertigo':36,'Acne':37,'Urinary tract infection':38,'Psoriasis':39,\n",
    "'Impetigo':40}},inplace=True) # replace disease names with indices\n"
   ]
  },
  {
   "cell_type": "code",
   "execution_count": 72,
   "id": "73747e6e",
   "metadata": {},
   "outputs": [
    {
     "data": {
      "text/plain": [
       "array([ 0,  0,  0, ..., 38, 39, 40], dtype=int64)"
      ]
     },
     "execution_count": 72,
     "metadata": {},
     "output_type": "execute_result"
    }
   ],
   "source": [
    "# Extract testing data\n",
    "X_test= df[l1]\n",
    "y_test = df[[\"prognosis\"]]\n",
    "np.ravel(y_test) "
   ]
  },
  {
   "cell_type": "code",
   "execution_count": 73,
   "id": "725e522b",
   "metadata": {
    "scrolled": true
   },
   "outputs": [
    {
     "data": {
      "text/plain": [
       "array([ 0,  0,  0, ..., 38, 39, 40], dtype=int64)"
      ]
     },
     "execution_count": 73,
     "metadata": {},
     "output_type": "execute_result"
    }
   ],
   "source": [
    "# Extrac\n",
    "X= df[l1]\n",
    "y = df[[\"prognosis\"]]\n",
    "np.ravel(y)  "
   ]
  },
  {
   "cell_type": "markdown",
   "id": "c3db2cd4",
   "metadata": {},
   "source": [
    "# Defining message functions"
   ]
  },
  {
   "cell_type": "code",
   "execution_count": 74,
   "id": "3d4dc392",
   "metadata": {},
   "outputs": [],
   "source": [
    "def nb():\n",
    "    global count \n",
    "    count = 0\n",
    "    if(Symptom1.get() != \"None\"):\n",
    "        count+=1\n",
    "    if(Symptom2.get() != \"None\"):\n",
    "        count+=1\n",
    "    if(Symptom3.get() != \"None\"):\n",
    "        count+=1\n",
    "    if(Symptom4.get() != \"None\"):\n",
    "        count+=1\n",
    "    if(Symptom5.get() != \"None\"):\n",
    "        count+=1\n",
    "\n",
    "# If no symptom is selected, print a messagebox prompting user to select symptoms        \n",
    "    if (count == 0):\n",
    "        messagebox.showinfo(\"No symptoms selected!!\", \"Please select at least 2 symptoms for proper prediction\")\n",
    "    elif (count == 1):\n",
    "        messagebox.showwarning(\"Warning\", \"Only 1 symptom entered. Prediction might not be accurate\")\n",
    "        NaiveBayes()\n",
    "    else :\n",
    "        NaiveBayes()\n"
   ]
  },
  {
   "cell_type": "code",
   "execution_count": 75,
   "id": "2e74d001",
   "metadata": {},
   "outputs": [],
   "source": [
    "def rf():\n",
    "    global count \n",
    "    count = 0\n",
    "    if(Symptom1.get() != \"None\"):\n",
    "        count+=1\n",
    "    if(Symptom2.get() != \"None\"):\n",
    "        count+=1\n",
    "    if(Symptom3.get() != \"None\"):\n",
    "        count+=1\n",
    "    if(Symptom4.get() != \"None\"):\n",
    "        count+=1\n",
    "    if(Symptom5.get() != \"None\"):\n",
    "        count+=1\n",
    "        \n",
    "    if (count == 0):\n",
    "        messagebox.showinfo(\"Whoops!!\", \"Please select symptoms\")\n",
    "    elif (count == 1):\n",
    "        messagebox.showwarning(\"Warning\", \"Only 1 symptom entered. Prediction might not be accurate\")\n",
    "        RandomForest()\n",
    "    else :\n",
    "        RandomForest()\n"
   ]
  },
  {
   "cell_type": "markdown",
   "id": "83ed2719",
   "metadata": {},
   "source": [
    "# Creating our model"
   ]
  },
  {
   "cell_type": "code",
   "execution_count": 76,
   "id": "56d1c6f5",
   "metadata": {},
   "outputs": [],
   "source": [
    "# Using multinomial naive bayes (since we have multiple independent features (symptoms))\n",
    "def NaiveBayes():\n",
    "    \n",
    "    gnb = MultinomialNB()\n",
    "    gnb = gnb.fit(X, np.ravel(y))\n",
    "\n",
    "    y_pred = gnb.predict(X_test)\n",
    "    print(accuracy_score(y_test, y_pred))\n",
    "    print(accuracy_score(y_test, y_pred, normalize=False))\n",
    "\n",
    "    psymptoms = [\n",
    "        Symptom1.get(),\n",
    "        Symptom2.get(),\n",
    "        Symptom3.get(),\n",
    "        Symptom4.get(),\n",
    "        Symptom5.get(),\n",
    "    ]\n",
    "\n",
    "    for k in range(0, len(l1)):\n",
    "        for z in psymptoms:\n",
    "            if z == l1[k]:\n",
    "                l2[k] = 1\n",
    "\n",
    "    inputtest = [l2]\n",
    "    predict = gnb.predict(inputtest)\n",
    "    predicted = predict[0]\n",
    "\n",
    "    h = \"no\"\n",
    "    for a in range(0, len(disease)):\n",
    "        if disease[predicted] == disease[a]:\n",
    "            h = \"yes\"\n",
    "            break\n",
    "\n",
    "    if h == \"yes\":\n",
    "        t3.delete(\"1.0\", END)\n",
    "        t3.insert(END, disease[a])\n",
    "    else:\n",
    "        t3.delete(\"1.0\", END)\n",
    "        t3.insert(END, \"No Disease\")"
   ]
  },
  {
   "cell_type": "markdown",
   "id": "0daa9678",
   "metadata": {},
   "source": [
    "# Random Forest"
   ]
  },
  {
   "cell_type": "code",
   "execution_count": 77,
   "id": "aa4afc3e",
   "metadata": {},
   "outputs": [],
   "source": [
    "def RandomForest():\n",
    "        clf4 = RandomForestClassifier(n_estimators=100)\n",
    "        clf4 = clf4.fit(X,np.ravel(y))\n",
    "\n",
    "        y_pred=clf4.predict(X_test)\n",
    "        print(accuracy_score(y_test, y_pred))\n",
    "        print(accuracy_score(y_test, y_pred,normalize=False))\n",
    "    \n",
    "        psymptoms = [Symptom1.get(),Symptom2.get(),Symptom3.get(),Symptom4.get(),Symptom5.get()]\n",
    "\n",
    "        for k in range(0,len(l1)):\n",
    "            for z in psymptoms:\n",
    "                if(z==l1[k]):\n",
    "                    l2[k]=1\n",
    "\n",
    "        inputtest = [l2]\n",
    "        predict = clf4.predict(inputtest)\n",
    "        predicted=predict[0]\n",
    "\n",
    "        h='no'\n",
    "        for a in range(0,len(disease)):\n",
    "            if(predicted == a):\n",
    "                h='yes'\n",
    "                break\n",
    "        if (h=='yes'):\n",
    "            pred2.delete(\"1.0\", END)\n",
    "            pred2.insert(END, disease[a])\n",
    "        else:\n",
    "            pred2.delete(\"1.0\", END)\n",
    "            pred2.insert(END, \"No Disease\")"
   ]
  },
  {
   "cell_type": "markdown",
   "id": "bb9ca8cf",
   "metadata": {},
   "source": [
    "# Creating GUI"
   ]
  },
  {
   "cell_type": "code",
   "execution_count": 78,
   "id": "0b89ac1e",
   "metadata": {},
   "outputs": [],
   "source": [
    "root = Tk()\n",
    "root.title(\" SymptoScope \")\n",
    "root.configure(bg=\"#F5F5DC\")\n",
    "\n",
    "Symptom1 = StringVar()\n",
    "Symptom1.set(None)\n",
    "Symptom2 = StringVar()\n",
    "Symptom2.set(None)\n",
    "Symptom3 = StringVar()\n",
    "Symptom3.set(None)\n",
    "Symptom4 = StringVar()\n",
    "Symptom4.set(None)\n",
    "Symptom5 = StringVar()\n",
    "Symptom5.set(None)"
   ]
  },
  {
   "cell_type": "code",
   "execution_count": 79,
   "id": "13cf6cf5",
   "metadata": {},
   "outputs": [],
   "source": [
    "# Creating gui\n",
    "w2 = Label(root, justify=LEFT, text=\" Welcome to SymptoScope \", fg=\"#800020\", bg=\"#87CEEB\")\n",
    "w2.config(font=(\"Times\", 30, \"bold\"))\n",
    "w2.grid(row=1, column=0, columnspan=2, padx=100)\n",
    "\n",
    "NameLb1 = Label(root)\n",
    "NameLb1.config(font=(\"Times\", 20))\n",
    "NameLb1.grid(row=5, column=1, pady=10,  sticky=W)\n",
    "\n",
    "S1Lb = Label(root,  text=\"Symptom 1\", fg=\"black\", bg=\"#FFD580\")\n",
    "S1Lb.config(font=(\"Times\", 17))\n",
    "S1Lb.grid(row=7, column=0, pady=10)\n",
    "\n",
    "S2Lb = Label(root,  text=\"Symptom 2\", fg=\"black\", bg=\"#FFD580\")\n",
    "S2Lb.config(font=(\"Times\", 17))\n",
    "S2Lb.grid(row=8, column=0, pady=10)\n",
    "\n",
    "S3Lb = Label(root,  text=\"Symptom 3\", fg=\"black\", bg=\"#FFD580\")\n",
    "S3Lb.config(font=(\"Times\", 17))\n",
    "S3Lb.grid(row=9, column=0, pady=10)\n",
    "\n",
    "S4Lb = Label(root,  text=\"Symptom 4\", fg=\"black\", bg=\"#FFD580\")\n",
    "S4Lb.config(font=(\"Times\", 17))\n",
    "S4Lb.grid(row=10, column=0, pady=10)\n",
    "\n",
    "S5Lb = Label(root,  text=\"Symptom 5\", fg=\"black\", bg=\"#FFD580\")\n",
    "S5Lb.config(font=(\"Times\", 17))\n",
    "S5Lb.grid(row=11, column=0, pady=10)\n",
    "\n",
    "lr = Button(root, text=\"Predict using Naive Bayes\",height=2, width=25, command=nb, fg=\"#000080\", bg=\"#FBEAEB\", activebackground=\"#EC9787\", relief=RAISED)\n",
    "lr.config(font=(\"Times\", 15, \"bold\"))\n",
    "lr.grid(row=13, column=0, pady=20)\n",
    "\n",
    "lr = Button(root, text=\"Predict using Random Forest\", height=2, width=25, command=rf, fg=\"#317773\", bg=\"#E2D1F9\", activebackground=\"#EC9787\", relief=RAISED)\n",
    "lr.config(font=(\"Times\", 15, \"bold\"))\n",
    "lr.grid(row=14, column=0, pady=20)\n",
    "\n",
    "OPTIONS = sorted(l1) # Sort dropdown menu in ascending order\n",
    "\n",
    "S1En = OptionMenu(root, Symptom1,*OPTIONS)\n",
    "S1En.grid(row=7, column=1)\n",
    "S1En.config(bg=\"#FFD580\", activebackground=\"blue\", font=(\"Times\", 15))\n",
    "\n",
    "S2En = OptionMenu(root, Symptom2,*OPTIONS)\n",
    "S2En.grid(row=8, column=1)\n",
    "S2En.config(bg=\"#FFD580\", activebackground=\"blue\", font=(\"Times\", 15))\n",
    "\n",
    "S3En = OptionMenu(root, Symptom3,*OPTIONS)\n",
    "S3En.grid(row=9, column=1)\n",
    "S3En.config(bg=\"#FFD580\", activebackground=\"blue\", font=(\"Times\", 15))\n",
    "\n",
    "S4En = OptionMenu(root, Symptom4,*OPTIONS)\n",
    "S4En.grid(row=10, column=1)\n",
    "S4En.config(bg=\"#FFD580\", activebackground=\"blue\", font=(\"Times\", 15))\n",
    "\n",
    "S5En = OptionMenu(root, Symptom5,*OPTIONS)\n",
    "S5En.grid(row=11, column=1)\n",
    "S5En.config(bg=\"#FFD580\", activebackground=\"blue\", font=(\"Times\", 15))\n",
    "\n",
    "\n",
    "NameLb = Label(root, text=\"\")\n",
    "NameLb.config(font=(\"Times\", 20))\n",
    "NameLb.grid(row=13, column=1, pady=10,  sticky=W)\n",
    "\n",
    "NameLb = Label(root, text=\"\")\n",
    "NameLb.config(font=(\"Times\", 15))\n",
    "NameLb.grid(row=18, column=1, pady=10,  sticky=W)\n",
    "\n",
    "# Naive Bayes button\n",
    "t3 = Text(root, height=2, width=30, bg=\"#FFCCCB\")\n",
    "t3.config(font=(\"Times\", 20))\n",
    "t3.grid(row=13, column=1 , padx=10)\n",
    "\n",
    "# Random Forest button\n",
    "pred2 = Text(root, height=2, width=30, bg=\"#FFCCCB\")\n",
    "pred2.config(font=(\"Times\", 20))\n",
    "pred2.grid(row=14, column=1, padx=10)\n",
    "\n",
    "root.mainloop() # Infinite loop"
   ]
  }
 ],
 "metadata": {
  "kernelspec": {
   "display_name": "Python 3 (ipykernel)",
   "language": "python",
   "name": "python3"
  },
  "language_info": {
   "codemirror_mode": {
    "name": "ipython",
    "version": 3
   },
   "file_extension": ".py",
   "mimetype": "text/x-python",
   "name": "python",
   "nbconvert_exporter": "python",
   "pygments_lexer": "ipython3",
   "version": "3.11.1"
  }
 },
 "nbformat": 4,
 "nbformat_minor": 5
}
